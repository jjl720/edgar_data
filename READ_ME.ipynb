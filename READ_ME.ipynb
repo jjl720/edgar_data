{
 "cells": [
  {
   "cell_type": "markdown",
   "id": "607bff5b",
   "metadata": {},
   "source": [
    "<h1>Edgar Mapper: Monthly SEC Edgar Data (10K: item 1)</h1>"
   ]
  },
  {
   "cell_type": "markdown",
   "id": "5e4529ed",
   "metadata": {},
   "source": [
    "<p><strong>Step Function Structure:</strong></p>\n",
    "<img src=\"images/stepfunctions_graph.png\" alt=\"Step Function Graph\" />"
   ]
  },
  {
   "cell_type": "markdown",
   "id": "626acf26",
   "metadata": {},
   "source": [
    "<hr>"
   ]
  },
  {
   "cell_type": "markdown",
   "id": "b245959d",
   "metadata": {},
   "source": [
    "<h2>main.py</h2>"
   ]
  },
  {
   "cell_type": "markdown",
   "id": "9c7cf752",
   "metadata": {},
   "source": [
    "<p>Description</p>\n",
    "<ol>\n",
    "  <li><strong>lambda_sec_extractor_queue_batch_requests():</strong><br> Description</li>\n",
    "  <li><strong>lambda_sec_extractor_batch_requests():</strong> <br>Description</li>\n",
    "  <li><strong>save_to_s3_sec_url_by_date:</strong><br> Description \n",
    "<pre>\n",
    "clai-edgar\n",
    "    |-source=sec_api\n",
    "       |- form_type={form_type}\n",
    "          |- filingdate={date}\n",
    "             |- accessionno={accesion_no}\n",
    "                 |- item=1.json.gz\n",
    "</pre></li>\n",
    "</ol>"
   ]
  },
  {
   "cell_type": "markdown",
   "id": "888a3f81",
   "metadata": {},
   "source": [
    "<h3>def lambda_sec_extractor_queue_batch_requests(event, context):</h3>"
   ]
  },
  {
   "cell_type": "markdown",
   "id": "1e82739d",
   "metadata": {},
   "source": [
    "<p>The <code>lambda_sec_extractor_queue_batch_requests</code> function creates a list of JSON objects (dictionaries) to be processed by the <code>lambda_sec_extractor_batch_requests</code>. This process is dependent on the <code>sec_url_results</code> table in AWS Athena, from which it extracts the URL links used in the extraction process. Additionally, the process requires several variables in the <code>config.py</code> file to be set.</p>\n",
    "   <h4>Inputs</h4>\n",
    "    <ul>  <ul>\n",
    "        <li><strong>event</strong> = <code>None</code>No arguments required </li>\n",
    "        <li><strong>context</strong> = <code>None</code> No arguments required</li>\n",
    "        <li><strong><code>config.py</code> Variables</strong></li>\n",
    "        <ul>\n",
    "            <li>item_10k = \"1\"</li>\n",
    "            <li>item_10Q = \"\" </li>\n",
    "            <li>item_8k = \"\"</li>\n",
    "        </ul>\n",
    "    </ul>\n"
   ]
  },
  {
   "cell_type": "markdown",
   "id": "dac1008e",
   "metadata": {},
   "source": [
    "<p>This SQL query retrieves distinct records from the <code>sec_url_results</code> table in AWS Athena where the <code>formtype</code> is '10-K', the form we want to extract content from.</p>\n"
   ]
  },
  {
   "cell_type": "code",
   "execution_count": 3,
   "id": "0efa7dc3",
   "metadata": {},
   "outputs": [],
   "source": [
    "sql_query_string = \"SELECT DISTINCT(sec.linktotxt) , sec.formtype, sec.accessionno, filedat FROM sec_url_results AS sec WHERE sec.formtype in ('10-K');\""
   ]
  },
  {
   "cell_type": "markdown",
   "id": "48a9fca8",
   "metadata": {},
   "source": [
    "<p>The <code>df_secApiUrls</code> is a pandas DataFrame returned by the <code>clai</code> database from AWS Athena. It uses the query set in <code>sql_query_string</code> above to retrieve the table.</p>\n"
   ]
  },
  {
   "cell_type": "code",
   "execution_count": 5,
   "id": "776a9edd",
   "metadata": {},
   "outputs": [
    {
     "data": {
      "text/html": [
       "<div>\n",
       "<style scoped>\n",
       "    .dataframe tbody tr th:only-of-type {\n",
       "        vertical-align: middle;\n",
       "    }\n",
       "\n",
       "    .dataframe tbody tr th {\n",
       "        vertical-align: top;\n",
       "    }\n",
       "\n",
       "    .dataframe thead th {\n",
       "        text-align: right;\n",
       "    }\n",
       "</style>\n",
       "<table border=\"1\" class=\"dataframe\">\n",
       "  <thead>\n",
       "    <tr style=\"text-align: right;\">\n",
       "      <th></th>\n",
       "      <th>linktotxt</th>\n",
       "      <th>formtype</th>\n",
       "      <th>accessionno</th>\n",
       "      <th>filedat</th>\n",
       "    </tr>\n",
       "  </thead>\n",
       "  <tbody>\n",
       "    <tr>\n",
       "      <th>0</th>\n",
       "      <td>https://www.sec.gov/Archives/edgar/data/139410...</td>\n",
       "      <td>10-K</td>\n",
       "      <td>0001554795-23-000198</td>\n",
       "      <td>2023-06-30T17:12:54-04:00</td>\n",
       "    </tr>\n",
       "    <tr>\n",
       "      <th>1</th>\n",
       "      <td>https://www.sec.gov/Archives/edgar/data/8177/0...</td>\n",
       "      <td>10-K</td>\n",
       "      <td>0001140361-23-032391</td>\n",
       "      <td>2023-06-30T14:33:09-04:00</td>\n",
       "    </tr>\n",
       "    <tr>\n",
       "      <th>2</th>\n",
       "      <td>https://www.sec.gov/Archives/edgar/data/108455...</td>\n",
       "      <td>10-K</td>\n",
       "      <td>0001683168-23-004574</td>\n",
       "      <td>2023-06-30T12:24:57-04:00</td>\n",
       "    </tr>\n",
       "    <tr>\n",
       "      <th>3</th>\n",
       "      <td>https://www.sec.gov/Archives/edgar/data/178881...</td>\n",
       "      <td>10-K</td>\n",
       "      <td>0001193125-23-178453</td>\n",
       "      <td>2023-06-29T14:24:51-04:00</td>\n",
       "    </tr>\n",
       "    <tr>\n",
       "      <th>4</th>\n",
       "      <td>https://www.sec.gov/Archives/edgar/data/177587...</td>\n",
       "      <td>10-K</td>\n",
       "      <td>0001193125-23-178449</td>\n",
       "      <td>2023-06-29T14:22:50-04:00</td>\n",
       "    </tr>\n",
       "  </tbody>\n",
       "</table>\n",
       "</div>"
      ],
      "text/plain": [
       "                                           linktotxt formtype  \\\n",
       "0  https://www.sec.gov/Archives/edgar/data/139410...     10-K   \n",
       "1  https://www.sec.gov/Archives/edgar/data/8177/0...     10-K   \n",
       "2  https://www.sec.gov/Archives/edgar/data/108455...     10-K   \n",
       "3  https://www.sec.gov/Archives/edgar/data/178881...     10-K   \n",
       "4  https://www.sec.gov/Archives/edgar/data/177587...     10-K   \n",
       "\n",
       "            accessionno                    filedat  \n",
       "0  0001554795-23-000198  2023-06-30T17:12:54-04:00  \n",
       "1  0001140361-23-032391  2023-06-30T14:33:09-04:00  \n",
       "2  0001683168-23-004574  2023-06-30T12:24:57-04:00  \n",
       "3  0001193125-23-178453  2023-06-29T14:24:51-04:00  \n",
       "4  0001193125-23-178449  2023-06-29T14:22:50-04:00  "
      ]
     },
     "execution_count": 5,
     "metadata": {},
     "output_type": "execute_result"
    }
   ],
   "source": [
    "df_secApiUrls = clai.query(sql_string=sql_query_string, database=\"clai\")"
   ]
  },
  {
   "cell_type": "markdown",
   "id": "234edeae",
   "metadata": {},
   "source": [
    "This process add a new col called <code>item</code> with the filling section the function is trying to extract. This item can be a list or a string This process adds a new column called <code>item</code>, which specifies the section the extraction is attempting to extract. This <code>'item'</code> can be either a list or a string and is in the <code>config.py</code> file"
   ]
  },
  {
   "cell_type": "markdown",
   "id": "6de37bd3",
   "metadata": {},
   "source": [
    "<h4>Available items:</h4>\n",
    "<ul>\n",
    "  <li>10K: <code>1, 1A, 1B, 2, 3, 4, 5, 6, 7, 7A, 8, 9, 9A, 9B, 10, 11, 12, 13, 14, 15</code></li>\n",
    "  <li>10Q: <code>part1item1, part1item2, part1item3, part1item4, part2item1, part2item1a, part2item2, part2item3, part2item4, part2item5, part2item6</code></li>\n",
    "  <li>8K: <code>1-1, 1-2, 1-3, 1-4, 2-1, 2-2, 2-3, 2-4, 2-5, 2-6, 3-1, 3-2, 3-3, 4-1, 4-2, 5-1, 5-2, 5-3, 5-4, 5-5, 5-6, 5-7, 5-8, 6-1, 6-2, 6-3, 6-4, 6-5, 6-6, 6-10, 7-1, 8-1, 9-1, signature</code></li>\n",
    "</ul>\n"
   ]
  },
  {
   "cell_type": "code",
   "execution_count": 8,
   "id": "5fde0878",
   "metadata": {},
   "outputs": [
    {
     "data": {
      "text/html": [
       "<div>\n",
       "<style scoped>\n",
       "    .dataframe tbody tr th:only-of-type {\n",
       "        vertical-align: middle;\n",
       "    }\n",
       "\n",
       "    .dataframe tbody tr th {\n",
       "        vertical-align: top;\n",
       "    }\n",
       "\n",
       "    .dataframe thead th {\n",
       "        text-align: right;\n",
       "    }\n",
       "</style>\n",
       "<table border=\"1\" class=\"dataframe\">\n",
       "  <thead>\n",
       "    <tr style=\"text-align: right;\">\n",
       "      <th></th>\n",
       "      <th>linktotxt</th>\n",
       "      <th>formtype</th>\n",
       "      <th>accessionno</th>\n",
       "      <th>filedat</th>\n",
       "      <th>item</th>\n",
       "    </tr>\n",
       "  </thead>\n",
       "  <tbody>\n",
       "    <tr>\n",
       "      <th>0</th>\n",
       "      <td>https://www.sec.gov/Archives/edgar/data/139410...</td>\n",
       "      <td>10-K</td>\n",
       "      <td>0001554795-23-000198</td>\n",
       "      <td>2023-06-30T17:12:54-04:00</td>\n",
       "      <td>1</td>\n",
       "    </tr>\n",
       "    <tr>\n",
       "      <th>1</th>\n",
       "      <td>https://www.sec.gov/Archives/edgar/data/8177/0...</td>\n",
       "      <td>10-K</td>\n",
       "      <td>0001140361-23-032391</td>\n",
       "      <td>2023-06-30T14:33:09-04:00</td>\n",
       "      <td>1</td>\n",
       "    </tr>\n",
       "    <tr>\n",
       "      <th>2</th>\n",
       "      <td>https://www.sec.gov/Archives/edgar/data/108455...</td>\n",
       "      <td>10-K</td>\n",
       "      <td>0001683168-23-004574</td>\n",
       "      <td>2023-06-30T12:24:57-04:00</td>\n",
       "      <td>1</td>\n",
       "    </tr>\n",
       "    <tr>\n",
       "      <th>3</th>\n",
       "      <td>https://www.sec.gov/Archives/edgar/data/178881...</td>\n",
       "      <td>10-K</td>\n",
       "      <td>0001193125-23-178453</td>\n",
       "      <td>2023-06-29T14:24:51-04:00</td>\n",
       "      <td>1</td>\n",
       "    </tr>\n",
       "    <tr>\n",
       "      <th>4</th>\n",
       "      <td>https://www.sec.gov/Archives/edgar/data/177587...</td>\n",
       "      <td>10-K</td>\n",
       "      <td>0001193125-23-178449</td>\n",
       "      <td>2023-06-29T14:22:50-04:00</td>\n",
       "      <td>1</td>\n",
       "    </tr>\n",
       "  </tbody>\n",
       "</table>\n",
       "</div>"
      ],
      "text/plain": [
       "                                           linktotxt formtype  \\\n",
       "0  https://www.sec.gov/Archives/edgar/data/139410...     10-K   \n",
       "1  https://www.sec.gov/Archives/edgar/data/8177/0...     10-K   \n",
       "2  https://www.sec.gov/Archives/edgar/data/108455...     10-K   \n",
       "3  https://www.sec.gov/Archives/edgar/data/178881...     10-K   \n",
       "4  https://www.sec.gov/Archives/edgar/data/177587...     10-K   \n",
       "\n",
       "            accessionno                    filedat item  \n",
       "0  0001554795-23-000198  2023-06-30T17:12:54-04:00    1  \n",
       "1  0001140361-23-032391  2023-06-30T14:33:09-04:00    1  \n",
       "2  0001683168-23-004574  2023-06-30T12:24:57-04:00    1  \n",
       "3  0001193125-23-178453  2023-06-29T14:24:51-04:00    1  \n",
       "4  0001193125-23-178449  2023-06-29T14:22:50-04:00    1  "
      ]
     },
     "execution_count": 8,
     "metadata": {},
     "output_type": "execute_result"
    }
   ],
   "source": [
    "# Adds a new column with the items to extract from each filing\n",
    "filling_item_10K = config.item_10k # item 1 is \"1\" see sec_api for details\n",
    "filling_item_10Q = config.item_10Q\n",
    "filling_item_8K = config.item_8k  \n",
    "# filling the item col using apply on rows \n",
    "df_secApiUrls['item'] = df_secApiUrls.apply(lambda x: filling_item_10K if x['formtype'] == '10-K' else (filling_item_10Q if x['formtype'] == '10-Q' else filling_item_8K), axis=1)"
   ]
  },
  {
   "cell_type": "markdown",
   "id": "67340953",
   "metadata": {},
   "source": [
    "<p>This final process converts the pandas DataFrame <code>df_secApiUrls</code> into JSON objects based on the rows, using <code>orient='records'</code>.</p>\n"
   ]
  },
  {
   "cell_type": "code",
   "execution_count": null,
   "id": "58801307",
   "metadata": {},
   "outputs": [],
   "source": [
    " # Reorient the df results for map state in step function\n",
    "queue_list = loads(df_secApiUrls.to_json(orient='records'))"
   ]
  },
  {
   "cell_type": "markdown",
   "id": "5e9cae9a",
   "metadata": {},
   "source": [
    "<strong>Sample output:</strong>\n",
    "<pre>\n",
    "queue_list =[\n",
    "            {'linktotxt': 'https://www.sec.gov/Archives/edgar/data/1394108/000155479523000198/0001554795-23-000198.txt',\n",
    "              'formtype': '10-K',\n",
    "              'accessionno': '0001554795-23-000198',\n",
    "              'filedat': '2023-06-30T17:12:54-04:00',\n",
    "              'item': '1'},\n",
    "            {'linktotxt': 'https://www.sec.gov/Archives/edgar/data/8177/000114036123032391/0001140361-23-032391.txt',\n",
    "              'formtype': '10-K',\n",
    "              'accessionno': '0001140361-23-032391',\n",
    "              'filedat': '2023-06-30T14:33:09-04:00',\n",
    "              'item': '1'},\n",
    "            {'linktotxt': 'https://www.sec.gov/Archives/edgar/data/1084551/000168316823004574/0001683168-23-004574.txt',\n",
    "              'formtype': '10-K',\n",
    "              'accessionno': '0001683168-23-004574',\n",
    "              'filedat': '2023-06-30T12:24:57-04:00',\n",
    "              'item': '1'},\n",
    "            {'linktotxt': 'https://www.sec.gov/Archives/edgar/data/1788818/000119312523178453/0001193125-23-178453.txt',\n",
    "              'formtype': '10-K',\n",
    "              'accessionno': '0001193125-23-178453',\n",
    "              'filedat': '2023-06-29T14:24:51-04:00',\n",
    "              'item': '1'},\n",
    "            {'linktotxt': 'https://www.sec.gov/Archives/edgar/data/1775870/000119312523178449/0001193125-23-178449.txt',\n",
    "              'formtype': '10-K',\n",
    "              'accessionno': '0001193125-23-178449',\n",
    "              'filedat': '2023-06-29T14:22:50-04:00',\n",
    "              'item': '1'}\n",
    "        ]\n",
    "    </pre>"
   ]
  },
  {
   "cell_type": "markdown",
   "id": "40e85e66",
   "metadata": {},
   "source": [
    "The queue builder returns a list of JSON objects (dictionaries) with the URL link to the SEC filing, accession number, the filing date, and the form type. This list will be used in the next AWS Map state."
   ]
  },
  {
   "cell_type": "code",
   "execution_count": null,
   "id": "a40e181f",
   "metadata": {},
   "outputs": [],
   "source": [
    "# Batch of 50 URL per lambda function, this is the batch size preprocessing step\n",
    "nested_queue_list = [queue_list[i:i+50] for i in range(0, len(queue_list), 50)]"
   ]
  },
  {
   "cell_type": "markdown",
   "id": "e2fcd68d",
   "metadata": {},
   "source": [
    "<strong>Sample output below:</strong>\n",
    "<pre>\n",
    "        {'batch_requests': [\n",
    "            [{'linktotxt': 'https://www.sec.gov/Archives/edgar/data/1616788/000149315222027230/0001493152-22-027230.txt',\n",
    "              'formtype': '10-K',\n",
    "              'accessionno': '0001493152-22-027230',\n",
    "              'filedat': '2022-09-30T13:18:02-04:00'\n",
    "              response: '},\n",
    "            ... ,\n",
    "              {'linktotxt': 'https://www.sec.gov/Archives/edgar/data/23197/000002319722000068/0000023197-22-000068.txt',\n",
    "               'formtype': '10-K',\n",
    "               'accessionno': '0000023197-22-000068',\n",
    "               'filedat': '2022-09-29T16:12:36-04:00'}],\n",
    "             [{'linktotxt': 'https://www.sec.gov/Archives/edgar/data/1687065/000147793222007306/0001477932-22-007306.txt',\n",
    "               'formtype': '10-K',\n",
    "               'accessionno': '0001477932-22-007306',\n",
    "               'filedat': '2022-09-29T06:02:18-04:00'},\n",
    "            ... ,\n",
    "             {'linktotxt': 'https://www.sec.gov/Archives/edgar/data/1021096/000162828022025641/0001628280-22-025641.txt',\n",
    "              'formtype': '10-K',\n",
    "              'accessionno': '0001628280-22-025641',\n",
    "              'filedat': '2022-09-28T17:16:13-04:00'}],\n",
    "            ...\n",
    "        ]}\n",
    "    </pre>"
   ]
  },
  {
   "cell_type": "code",
   "execution_count": null,
   "id": "5df8ec1d",
   "metadata": {},
   "outputs": [],
   "source": [
    "output = {'batch_requests': nested_queue_list}\n",
    "\n",
    "print('Number of URLs to process:', len(nested_queue_list),\n",
    "              'Number of Batches:', len(nested_queue_list))\n",
    "\n",
    "return output"
   ]
  },
  {
   "cell_type": "markdown",
   "id": "6677467f",
   "metadata": {},
   "source": [
    "<h3>def lambda_sec_extractor_batch_requests(event, context):</h3>"
   ]
  },
  {
   "cell_type": "markdown",
   "id": "4889a9cf",
   "metadata": {},
   "source": [
    " <p>Description</p>\n",
    " <h4>Inputs</h4>\n",
    "    <ul>  \n",
    "        <li><strong>event</strong> = list of json_object from <code>output</code> in the queue builder above</li>\n",
    "        <li><strong>context</strong> = <code>None</code> No arguments required</li>\n",
    "    </ul>"
   ]
  },
  {
   "cell_type": "markdown",
   "id": "11efe4ab",
   "metadata": {},
   "source": [
    "The following process is looped until the event list is empty"
   ]
  },
  {
   "cell_type": "code",
   "execution_count": null,
   "id": "60a1a434",
   "metadata": {},
   "outputs": [],
   "source": [
    "while len(event) != 0:"
   ]
  },
  {
   "cell_type": "markdown",
   "id": "cb5c2a02",
   "metadata": {},
   "source": [
    "<p>The <code>pop()</code> method removes the last item from a list in Python and returns that item. This action assigns the JSON object to <code>current_event</code>. To quickly recapitulate, <code>event</code> is a list of JSON objects, and <code>current_event</code> is one item from this list.</p>\n",
    "\n",
    "<pre>\n",
    "event =[\n",
    "            {'linktotxt': 'https://www.sec.gov/Archives/edgar/data/1394108/000155479523000198/0001554795-23-000198.txt',\n",
    "              'formtype': '10-K',\n",
    "              'accessionno': '0001554795-23-000198',\n",
    "              'filedat': '2023-06-30T17:12:54-04:00',\n",
    "              'item': '1'},\n",
    "            {'linktotxt': 'https://www.sec.gov/Archives/edgar/data/8177/000114036123032391/0001140361-23-032391.txt',\n",
    "              'formtype': '10-K',\n",
    "              'accessionno': '0001140361-23-032391',\n",
    "              'filedat': '2023-06-30T14:33:09-04:00',\n",
    "              'item': '1'},\n",
    "            {'linktotxt': 'https://www.sec.gov/Archives/edgar/data/1084551/000168316823004574/0001683168-23-004574.txt',\n",
    "              'formtype': '10-K',\n",
    "              'accessionno': '0001683168-23-004574',\n",
    "              'filedat': '2023-06-30T12:24:57-04:00',\n",
    "              'item': '1'},\n",
    "... \n",
    "        ]\n",
    "</pre>\n",
    "Current event is an item of this list that is removed with <code>pop()</code>\n",
    "<pre>\n",
    "current_event = {'linktotxt': 'https://www.sec.gov/Archives/edgar/data/1775870/000119312523178449/0001193125-23-178449.txt',\n",
    "     'formtype': '10-K',\n",
    "     'accessionno': '0001193125-23-178449',\n",
    "     'filedat': '2023-06-29T14:22:50-04:00',\n",
    "     'item': '1'}\n",
    "</pre>"
   ]
  },
  {
   "cell_type": "code",
   "execution_count": null,
   "id": "07cf8f7f",
   "metadata": {},
   "outputs": [],
   "source": [
    "# inside while len(event) != 0:\n",
    "    current_event = event.pop() # pop one item of the queue\n",
    "    # This variable will change value and make the stack smaller saving space"
   ]
  },
  {
   "cell_type": "markdown",
   "id": "e17e2200",
   "metadata": {},
   "source": [
    "<strong>CloudWatch Log:</strong><br>\n",
    "<p>With each event, we record the following information in CloudWatch logs for this Lambda function:</p>\n",
    "<ul><li>formType = '10-K'</li><li>accessionno = '0001193125-23-178449'</li><li>url_link =  'https://www.sec.gov/Archives/edgar/dat . . .'</li></ul>"
   ]
  },
  {
   "cell_type": "code",
   "execution_count": null,
   "id": "908946d3",
   "metadata": {},
   "outputs": [],
   "source": [
    "# inside while len(event) != 0:\n",
    "    print (f'extractor_item1 - processing request -- formType:{current_event[\"formtype\"]} -- accessionno:{current_event[\"accessionno\"]} --  url_link:{current_event[\"linktotxt\"]} ')"
   ]
  },
  {
   "cell_type": "markdown",
   "id": "9daf0a65",
   "metadata": {},
   "source": [
    "<p>The extraction process requires the <code>current_event['linktotxt']</code> and the <code>section</code>, which corresponds to <code>current_event['item']</code>. By default, the <code>section</code> is set to \"1\", as most documents have a Section 1. The <code>secApi_extract()</code> function is defined in the <code>secApi_extractor.py</code> file. The item result is set as a new key in the JSON object called <code>\"Section\"</code>.</p>\n",
    "\n"
   ]
  },
  {
   "cell_type": "code",
   "execution_count": null,
   "id": "36ca081c",
   "metadata": {},
   "outputs": [],
   "source": [
    "# inside while len(event) != 0:\n",
    "    # extracts item1 from 10k using the link in this example. It can extract sections form all sec fillings\n",
    "    current_event['Section'] = secApi_extract(current_event['linktotxt'],section=current_event['item'])"
   ]
  },
  {
   "cell_type": "markdown",
   "id": "8124dbda",
   "metadata": {},
   "source": [
    "<code>current_event['Section']</code> = ' ITEM 1. BUSINESS \\n\\n&#160; \\n\\nIntroduction \\n\\n&#160; \\n\\nGoldenbridge Acquisition Limited (&#8220;Goldenbridge,&#8221; &#8220;we,&#8221; or &#8220;us&#8221;) is a British Virgin Islands exempted company incorporated on August 12, 2019 as a blank check company for the purpose of entering into a merger. . . '"
   ]
  },
  {
   "cell_type": "markdown",
   "id": "5ccd6168",
   "metadata": {},
   "source": [
    "<strong>Sample example:</strong>\n",
    "<pre>\n",
    "current_event = {'linktotxt': 'https://www.sec.gov/Archives/edgar/data/1775870/000119312523178449/0001193125-23-178449.txt',\n",
    "     'formtype': '10-K',\n",
    "     'accessionno': '0001193125-23-178449',\n",
    "     'filedat': '2023-06-29T14:22:50-04:00',\n",
    "     'item': '1',\n",
    "     'Section' : ' ITEM 1. BUSINESS \\n\\n  \\n\\nIntroduction \\n\\n  \\n\\nGoldenbridge Acquisition Limited (“Goldenbridge,” “we,” or “us”) is a British Virgin Islands exempted company incorporated on August 12, 2019 as a blank check company for the purpose of entering into a merger. . . '}\n",
    "</pre>"
   ]
  },
  {
   "cell_type": "markdown",
   "id": "a8ee9342",
   "metadata": {},
   "source": [
    "This function below saves the json object to AWS S3 using the <code>formtype</code>, <code>filedate</code>, <code>accessionno</code>. These inputs are used to create the directory the json_object with the section content is saved."
   ]
  },
  {
   "cell_type": "code",
   "execution_count": null,
   "id": "bc87f001",
   "metadata": {},
   "outputs": [],
   "source": [
    "# inside while len(event) != 0:\n",
    "# save to s3 using the save function:\n",
    "    save_to_s3_sec_url_by_date(current_event,\n",
    "                               current_event['formtype'],\n",
    "                               current_event['filedat'],\n",
    "                               current_event['accessionno'])"
   ]
  },
  {
   "cell_type": "markdown",
   "id": "2b2b5007",
   "metadata": {},
   "source": [
    "<strong>Cloudwatch log:</strong><br> The with each event completed we record in cloud watch logs for this lambda function. The following information is recorded:\n",
    "<ul>\n",
    "    <li>statusCode = '200'</li>\n",
    "    <li>accession_no = '0001193125-23-178449'</li>\n",
    "    <li>response_len = 2560 </li>\n",
    "    <li>statusCode = '10-K'</li>\n",
    "    <li>form_link = 'https://www.sec.gov/Archives/edgar/dat . . .'</li>\n",
    "</ul>"
   ]
  },
  {
   "cell_type": "code",
   "execution_count": null,
   "id": "8d946f1d",
   "metadata": {},
   "outputs": [],
   "source": [
    "# inside while len(event) != 0:\n",
    "    out_msg = { 'statusCode': 200,\n",
    "                'accession_no':current_event['accessionno'],\n",
    "                'response_len':len(current_event['item1']),\n",
    "                'form_type': current_event['formtype'],\n",
    "                'form_link':current_event['linktotxt']\n",
    "                        }"
   ]
  },
  {
   "cell_type": "markdown",
   "id": "26037d34",
   "metadata": {},
   "source": [
    "<h3>def save_to_s3_sec_url_by_date():</h3>"
   ]
  },
  {
   "cell_type": "markdown",
   "id": "316b784e",
   "metadata": {},
   "source": [
    "<p>Description</p>"
   ]
  },
  {
   "cell_type": "code",
   "execution_count": null,
   "id": "c19cbebe",
   "metadata": {},
   "outputs": [],
   "source": []
  },
  {
   "cell_type": "code",
   "execution_count": null,
   "id": "7cbb8fb7",
   "metadata": {},
   "outputs": [],
   "source": []
  },
  {
   "cell_type": "markdown",
   "id": "8274b7bb",
   "metadata": {},
   "source": [
    "<hr>"
   ]
  },
  {
   "cell_type": "markdown",
   "id": "27d68579",
   "metadata": {},
   "source": [
    "<h2>secApi_extractor.py</h2>"
   ]
  },
  {
   "cell_type": "markdown",
   "id": "2c9640a4",
   "metadata": {},
   "source": [
    "<p>The <code>secApi_extract()</code> function makes requests to the SEC REST API using the constructed URL. The URL is constructed using f-strings in the <code>secApi_api_endpoint</code> string variable. The response from this API is the section of the filing being queried. The response comes in string format, and if the REST API status code is not <code>200</code>, the function will recursively re-engage the API after a delay. This recursive re-engagement occurs up to 5 times before it ceases, but it is possible to increase the number of re-engagement attempts.</p>\n",
    "\n",
    "<br>\n",
    "<strong>SEC API Documentation:</strong> https://sec-api.io/docs/sec-filings-item-extraction-api "
   ]
  },
  {
   "cell_type": "markdown",
   "id": "a0620f80",
   "metadata": {},
   "source": [
    "<h3>def secApi_extract():</h3>\n",
    "\n",
    "   <h4>Inputs</h4>\n",
    "    <ul>  <ul>\n",
    "        <li><strong><code>filling_url</code></strong> = URL link to filling in string </li>\n",
    "        <li><strong><code>section</code></strong> = default <code>\"1\"</code> filling item</li>\n",
    "        <li><strong><code>attempt</code></strong> = default <code>1</code> counts the times the function re-runs</li>\n",
    "        <li><strong><code>max_attempt</code></strong> = default <code>5</code> max attempts before function quits and returns '' </li>\n",
    "        <li><strong><code>config.py</code> Variables</strong></li>\n",
    "        <ul>\n",
    "            <li><code>secApi_key  = config.SecApi.sec_api_key</code></li>\n",
    "            <li><code>secApi_root_url = config.SecApi.sec_api_root</code> </li>\n",
    "        </ul>\n",
    "    </ul>"
   ]
  },
  {
   "cell_type": "markdown",
   "id": "62295417",
   "metadata": {},
   "source": [
    "<p>This boolean exits the recursion in case it fails more than 5 times.</p>\n"
   ]
  },
  {
   "cell_type": "code",
   "execution_count": null,
   "id": "d3c37b17",
   "metadata": {},
   "outputs": [],
   "source": [
    "if attempt > max_attempt:\n",
    "    return ''"
   ]
  },
  {
   "cell_type": "markdown",
   "id": "61a64864",
   "metadata": {},
   "source": [
    "<p>These variables are set in the <code>config.py</code> file. It carries the API key and the REST API root URL, which are used to create the query string.</p>\n"
   ]
  },
  {
   "cell_type": "code",
   "execution_count": null,
   "id": "21ecb313",
   "metadata": {},
   "outputs": [],
   "source": [
    "secApi_key = config.SecApi.sec_api_key\n",
    "secApi_root_url = config.SecApi.sec_api_root"
   ]
  },
  {
   "cell_type": "markdown",
   "id": "df7dcb54",
   "metadata": {},
   "source": [
    "<p>The <code>secApi_api_endpoint</code> constructs the query for the REST API. It uses the <code>secApi_key</code>, the filing URL, and the <code>section</code> provided in the function's inputs.</p>\n"
   ]
  },
  {
   "cell_type": "code",
   "execution_count": null,
   "id": "d635f1f0",
   "metadata": {},
   "outputs": [],
   "source": [
    "secApi_api_endpoint = secApi_root_url + f'url={filling_url}&item={section}&type=text&token={secApi_key}'"
   ]
  },
  {
   "cell_type": "markdown",
   "id": "0a60fc94",
   "metadata": {},
   "source": [
    "<p>The <code>requests.get()</code> function is used to interact with the REST API; it uses the URL provided to fetch the filing items from the <code>secApi_api_endpoint</code> query.</p>\n"
   ]
  },
  {
   "cell_type": "code",
   "execution_count": null,
   "id": "993638c1",
   "metadata": {},
   "outputs": [],
   "source": [
    "response = requests.get(secApi_api_endpoint)"
   ]
  },
  {
   "cell_type": "markdown",
   "id": "d159fb72",
   "metadata": {},
   "source": [
    "<strong>Cloudwatch log:</strong><br> The with each query we record in cloud watch logs from the lambda_sec_extractor_batch_requests function. The following information is recorded:\n",
    "<ul><li><strong>response code</strong> = '200' or '500' or '400' if failed</li><li><strong>attempt</strong> = 1 </li><li><strong>url_link</strong> =  'https://www.sec.gov/Archives/edgar/dat . . .'</li></ul>"
   ]
  },
  {
   "cell_type": "code",
   "execution_count": null,
   "id": "91c7f27b",
   "metadata": {},
   "outputs": [],
   "source": [
    "print(f'response code {response.status_code} -- attempt:{attempt} -- filling_url: {filling_url}')"
   ]
  },
  {
   "cell_type": "markdown",
   "id": "1414fff4",
   "metadata": {},
   "source": [
    "Depending on the response's status code, the boolean expression below will determine whether to re-run the <code>secApi_extract()</code> function or return the response in text format. A status code other than <code>200 status code</code> indicates a failed request and will prompt the function to re-engage after a delay proportionate to the number of attempts made.\n",
    "<h4>Status Codes:</h4>\n",
    "<ol>\n",
    "    <li>Informational responses (100 – 199):</li>\n",
    "    <li>Successful responses (200 – 299):</li>\n",
    "    <li>Redirection messages (300 – 399):</li>\n",
    "    <li>Client error responses (400 – 499):</li>\n",
    "     <li>Server error responses (500 – 599):</li>\n",
    " </ol>"
   ]
  },
  {
   "cell_type": "code",
   "execution_count": null,
   "id": "c2d6ad51",
   "metadata": {},
   "outputs": [],
   "source": [
    "if response.status_code !=200:\n",
    "    time.sleep(2**attempt)\n",
    "    response_text = secApi_extract(filling_url,section=section, attempt=attempt+1, max_attempt=5)"
   ]
  },
  {
   "cell_type": "markdown",
   "id": "1c6de509",
   "metadata": {},
   "source": [
    "This final step returns the response_text if the status code is sucessful."
   ]
  },
  {
   "cell_type": "code",
   "execution_count": null,
   "id": "8028efed",
   "metadata": {},
   "outputs": [],
   "source": [
    "else:\n",
    "    response_text = response.text\n",
    "return response_text"
   ]
  }
 ],
 "metadata": {
  "kernelspec": {
   "display_name": "Python 3 (ipykernel)",
   "language": "python",
   "name": "python3"
  },
  "language_info": {
   "codemirror_mode": {
    "name": "ipython",
    "version": 3
   },
   "file_extension": ".py",
   "mimetype": "text/x-python",
   "name": "python",
   "nbconvert_exporter": "python",
   "pygments_lexer": "ipython3",
   "version": "3.11.4"
  }
 },
 "nbformat": 4,
 "nbformat_minor": 5
}
